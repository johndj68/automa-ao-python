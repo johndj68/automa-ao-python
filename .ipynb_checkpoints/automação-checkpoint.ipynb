{
 "cells": [
  {
   "cell_type": "code",
   "execution_count": 68,
   "metadata": {},
   "outputs": [],
   "source": [
    "#!pip install pyautogui\n",
    "#!pip install pandas\n",
    "#!pip install openpyxl\n"
   ]
  },
  {
   "cell_type": "code",
   "execution_count": 69,
   "metadata": {},
   "outputs": [],
   "source": [
    "import pyautogui\n",
    "import pyperclip\n",
    "import time\n",
    "pyautogui.PAUSE = 1\n",
    "\n",
    "pyautogui.hotkey(\"ctrl\",\"t\")\n",
    "pyperclip.copy(\" https://drive.google.com/drive/folders/149xknr9JvrlEnhNWO49zPcw0PW5icxga?usp=sharing\")\n",
    "pyautogui.hotkey(\"ctrl\",\"v\")\n",
    "pyautogui.press(\"enter\")\n",
    "time.sleep(5)\n",
    "pyautogui.click(x=349, y=299, clicks=2)\n",
    "time.sleep(3)\n",
    "pyautogui.click(x=349, y=299)\n",
    "time.sleep(3)\n",
    "pyautogui.click(x=1136, y=199)\n",
    "time.sleep(2)\n",
    "pyautogui.click(x=1011, y=601)\n",
    "time.sleep(7)\n",
    "import pandas as pd\n",
    "tabela = pd.read_excel(r\"C:\\Users\\fhina\\Downloads\\Vendas - Dez.xlsx\")\n",
    "display(tabela)\n",
    "pyautogui.PAUSE = 1\n",
    "quantidade= tabela[\"Quantidade\"].sum()\n",
    "faturamento=tabela[\"Valor Final\"].sum()\n",
    "#print(quantidade)\n",
    "#print(faturamento)\n",
    "pyautogui.hotkey(\"ctrl\",\"t\")\n",
    "time.sleep(2)\n",
    "pyperclip.copy(\" https://mail.google.com/mail/u/0/#inbox\")\n",
    "pyautogui.hotkey(\"ctrl\",\"v\")\n",
    "pyautogui.press(\"enter\")\n",
    "time.sleep(7)\n",
    "pyautogui.click(x=98, y=211)\n",
    "time.sleep(2)\n",
    "pyautogui.write(\"johnsdj68@gmail.com\")\n",
    "pyautogui.press(\"tab\")\n",
    "pyautogui.press(\"tab\")\n",
    "pyperclip.copy(\"Relatório de Vendas.\")\n",
    "pyautogui.hotkey(\"ctrl\",\"v\")\n",
    "pyautogui.press(\"tab\")\n",
    "texto=f'''Bom dia \n",
    "O faturamento de ontem foi de:R${faturamento:,.2F}\n",
    "A quantidade de produtos foi de:R${quantidade:,}\n",
    "\n",
    "abraços\n",
    "John\n",
    "'''\n",
    "pyperclip.copy(texto)\n",
    "pyautogui.hotkey(\"ctrl\",\"v\")\n",
    "time.sleep(2)\n",
    "pyautogui.hotkey(\"ctrl\",\"enter\")"
   ]
  },
  {
   "cell_type": "code",
   "execution_count": 72,
   "metadata": {},
   "outputs": [
    {
     "data": {
      "text/plain": [
       "Point(x=98, y=211)"
      ]
     },
     "execution_count": 72,
     "metadata": {},
     "output_type": "execute_result"
    }
   ],
   "source": [
    "time.sleep(7)\n",
    "pyautogui.position()"
   ]
  },
  {
   "cell_type": "code",
   "execution_count": null,
   "metadata": {},
   "outputs": [],
   "source": []
  }
 ],
 "metadata": {
  "kernelspec": {
   "display_name": "Python 3 (ipykernel)",
   "language": "python",
   "name": "python3"
  },
  "language_info": {
   "codemirror_mode": {
    "name": "ipython",
    "version": 3
   },
   "file_extension": ".py",
   "mimetype": "text/x-python",
   "name": "python",
   "nbconvert_exporter": "python",
   "pygments_lexer": "ipython3",
   "version": "3.10.5"
  }
 },
 "nbformat": 4,
 "nbformat_minor": 4
}
